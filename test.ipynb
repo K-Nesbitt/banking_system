{
 "cells": [
  {
   "cell_type": "code",
   "execution_count": 1,
   "metadata": {},
   "outputs": [],
   "source": [
    "import mysql.connector"
   ]
  },
  {
   "cell_type": "code",
   "execution_count": 26,
   "metadata": {},
   "outputs": [],
   "source": [
    "connection = mysql.connector.connect(host = 'localhost',\n",
    "                                        database = 'example',\n",
    "                                        user = 'root',\n",
    "                                        password = 'Y+kTRisJ')\n",
    "cursor = connection.cursor()"
   ]
  },
  {
   "cell_type": "code",
   "execution_count": 27,
   "metadata": {},
   "outputs": [
    {
     "name": "stdout",
     "output_type": "stream",
     "text": [
      "current balance: 400\n"
     ]
    }
   ],
   "source": [
    "acct_info=(1234567, 9987)\n",
    "new_balance = 250\n",
    "query = (\"\"\"UPDATE accounts\n",
    "        SET acct_balance = %s\n",
    "        WHERE acct_num= %s\n",
    "        \"\"\")\n",
    "vars = (new_balance, (acct_info[0],))\n",
    "cursor.execute(query, vars)\n",
    "connection.commit()"
   ]
  },
  {
   "cell_type": "code",
   "execution_count": 29,
   "metadata": {},
   "outputs": [],
   "source": [
    "#cursor.close()\n",
    "connection.close()"
   ]
  }
 ],
 "metadata": {
  "kernelspec": {
   "display_name": "zucchini_racing_gamma",
   "language": "python",
   "name": "python3"
  },
  "language_info": {
   "codemirror_mode": {
    "name": "ipython",
    "version": 3
   },
   "file_extension": ".py",
   "mimetype": "text/x-python",
   "name": "python",
   "nbconvert_exporter": "python",
   "pygments_lexer": "ipython3",
   "version": "3.10.10"
  },
  "orig_nbformat": 4
 },
 "nbformat": 4,
 "nbformat_minor": 2
}
